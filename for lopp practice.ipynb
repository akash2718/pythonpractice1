{
  "nbformat": 4,
  "nbformat_minor": 0,
  "metadata": {
    "colab": {
      "provenance": []
    },
    "kernelspec": {
      "name": "python3",
      "display_name": "Python 3"
    },
    "language_info": {
      "name": "python"
    }
  },
  "cells": [
    {
      "cell_type": "code",
      "execution_count": 2,
      "metadata": {
        "colab": {
          "base_uri": "https://localhost:8080/"
        },
        "id": "rPuwjPgOmXSk",
        "outputId": "776a0ac1-64e3-4a23-a493-5f14d749902f"
      },
      "outputs": [
        {
          "output_type": "stream",
          "name": "stdout",
          "text": [
            "9\n",
            "i 1\n",
            "i 2\n",
            "i 3\n",
            "i 4\n",
            "i 5\n",
            "i 6\n",
            "i 7\n",
            "i 8\n",
            "i 9\n"
          ]
        }
      ],
      "source": [
        "n=int(input())\n",
        "for i in range(1,n+1):\n",
        "  print(\"i\",i)"
      ]
    },
    {
      "cell_type": "code",
      "source": [
        "i=1;\n",
        "n=int(input())\n",
        "while(i<=n):\n",
        "  print(\"i\",i)\n",
        "  i+=1;\n"
      ],
      "metadata": {
        "colab": {
          "base_uri": "https://localhost:8080/"
        },
        "id": "jvV8AZTmojUa",
        "outputId": "078478b0-02d7-4529-80bb-ee1a53fd5b00"
      },
      "execution_count": 10,
      "outputs": [
        {
          "output_type": "stream",
          "name": "stdout",
          "text": [
            "4\n",
            "i 1\n",
            "i 2\n",
            "i 3\n",
            "i 4\n"
          ]
        }
      ]
    }
  ]
}